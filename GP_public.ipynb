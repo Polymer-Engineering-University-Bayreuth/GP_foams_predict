{
 "cells": [
  {
   "cell_type": "markdown",
   "id": "7bc08089",
   "metadata": {},
   "source": [
    "# Script to import a Gaussian processes model (pre-trained) to perform predictions on the foam density prepared in autoclave with three processing parameters: pressure, temperature and residence time. Simply add your three parameters in the input section below to get the predicted density.\n",
    "## Paper: \"Systematic copolymer screening for foaming experiments supported by computational methods\", Journal of Materials Chemistry A, 2023 (in press).\n",
    "### Programmer: Rodrigo Q. Albuquerque (2 November 2023)"
   ]
  },
  {
   "cell_type": "code",
   "execution_count": 13,
   "id": "29d96ce3",
   "metadata": {},
   "outputs": [
    {
     "name": "stdout",
     "output_type": "stream",
     "text": [
      "Predicted Density = [0.4226] g/cm3\n"
     ]
    }
   ],
   "source": [
    "##########################################################\n",
    "####################  INPUT   ############################\n",
    "##########################################################\n",
    "#####   pressure (bar), best range = [75 to 180]  \n",
    "#####   temperature (celsius), best range = [35 to 200]\n",
    "#####   residence time (minutes), best range = [2.5 to 30]\n",
    "###### Add your parameters in the three lines below! #####\n",
    "pressure = 80.0\n",
    "temperature = 70.0\n",
    "time = 10.0\n",
    "##########################################################\n",
    "\n",
    "\n",
    "# Import necessary libraries\n",
    "import numpy as np\n",
    "import joblib  \n",
    "\n",
    "# Load the saved model and scaler\n",
    "model_filename = \"gp_model.pkl\"\n",
    "scaler_filename = \"scaler.pkl\"\n",
    "loaded_model = joblib.load(model_filename)\n",
    "loaded_scaler = joblib.load(scaler_filename)\n",
    "\n",
    "# New data for prediction (2D numpy array)\n",
    "new_data = np.array([pressure, temperature, time]).reshape(-1,3)\n",
    "\n",
    "# Preprocess the new data using the loaded scaler\n",
    "new_data_scaled = loaded_scaler.transform(new_data)\n",
    "\n",
    "# Make predictions\n",
    "predictions = loaded_model.predict(new_data_scaled)\n",
    "print(f\"Predicted Density = {predictions} g/cm3\")"
   ]
  }
 ],
 "metadata": {
  "kernelspec": {
   "display_name": "Python 3 (ipykernel)",
   "language": "python",
   "name": "python3"
  },
  "language_info": {
   "codemirror_mode": {
    "name": "ipython",
    "version": 3
   },
   "file_extension": ".py",
   "mimetype": "text/x-python",
   "name": "python",
   "nbconvert_exporter": "python",
   "pygments_lexer": "ipython3",
   "version": "3.10.10"
  }
 },
 "nbformat": 4,
 "nbformat_minor": 5
}
